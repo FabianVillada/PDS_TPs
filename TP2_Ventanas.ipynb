{
 "cells": [
  {
   "cell_type": "markdown",
   "metadata": {},
   "source": [
    " <img src=\"./logo_UTN.svg\" align=\"right\" width=\"150\" /> \n",
    "#### Procesamiento Digital de Señales\n",
    "\n",
    "# Trabajo Práctico 2\n",
    "#### Nombre y Apellido: Fabian Villada\n",
    "\n",
    "***\n",
    "## Ventanas\n"
   ]
  },
  {
   "cell_type": "markdown",
   "metadata": {},
   "source": [
    "<div class=\"alert alert-block alert-info\">\n",
    "<b>1)</b> Implemente las funciones para generar las siguientes ventanas $w(k)$:\n",
    "\n",
    "</div>"
   ]
  },
  {
   "cell_type": "markdown",
   "metadata": {
    "solution": "shown"
   },
   "source": [
    "+ Bartlett ó triangular\n",
    "+ Hann\n",
    "+ Blackman\n",
    "+ Flat-top\n",
    "\n"
   ]
  },
  {
   "cell_type": "markdown",
   "metadata": {},
   "source": [
    "<div class=\"alert alert-block alert-success\">\n",
    "<b>Ayuda:</b> Puede consultar el capítulo 6.3 del libro de B. Porat para obtener las expresiones analíticas de cada ventana.\n",
    "\n",
    "</div>"
   ]
  },
  {
   "cell_type": "markdown",
   "metadata": {},
   "source": [
    "   a) Para cada ventana grafique $w(k)$ y el módulo de su espectro $ \\lvert W(\\Omega) \\rvert $\n"
   ]
  },
  {
   "cell_type": "markdown",
   "metadata": {},
   "source": [
    "<div class=\"alert alert-block alert-warning\">\n",
    "<img src=\"./ojo.svg\" align=\"left\" width=\"50\" />  Normalice la amplitud máxima de todas las ventanas a 0 dB.\n",
    "</div>"
   ]
  },
  {
   "cell_type": "code",
   "execution_count": 1,
   "metadata": {
    "code_folding": []
   },
   "outputs": [
    {
     "ename": "NameError",
     "evalue": "name 'signal' is not defined",
     "output_type": "error",
     "traceback": [
      "\u001b[1;31m---------------------------------------------------------------------------\u001b[0m",
      "\u001b[1;31mNameError\u001b[0m                                 Traceback (most recent call last)",
      "\u001b[1;32m<ipython-input-1-6eb6d42a950f>\u001b[0m in \u001b[0;36m<module>\u001b[1;34m\u001b[0m\n\u001b[0;32m     12\u001b[0m \u001b[1;33m\u001b[0m\u001b[0m\n\u001b[0;32m     13\u001b[0m \u001b[1;33m\u001b[0m\u001b[0m\n\u001b[1;32m---> 14\u001b[1;33m \u001b[0mwindow\u001b[0m \u001b[1;33m=\u001b[0m \u001b[0msignal\u001b[0m\u001b[1;33m.\u001b[0m\u001b[0mbartlett\u001b[0m\u001b[1;33m(\u001b[0m\u001b[1;36m21\u001b[0m\u001b[1;33m)\u001b[0m\u001b[1;33m\u001b[0m\u001b[1;33m\u001b[0m\u001b[0m\n\u001b[0m\u001b[0;32m     15\u001b[0m \u001b[0mplt\u001b[0m\u001b[1;33m.\u001b[0m\u001b[0mplot\u001b[0m\u001b[1;33m(\u001b[0m\u001b[0mwindow\u001b[0m\u001b[1;33m)\u001b[0m\u001b[1;33m\u001b[0m\u001b[1;33m\u001b[0m\u001b[0m\n\u001b[0;32m     16\u001b[0m \u001b[0mplt\u001b[0m\u001b[1;33m.\u001b[0m\u001b[0mtitle\u001b[0m\u001b[1;33m(\u001b[0m\u001b[1;34m\"Bartlett window\"\u001b[0m\u001b[1;33m)\u001b[0m\u001b[1;33m\u001b[0m\u001b[1;33m\u001b[0m\u001b[0m\n",
      "\u001b[1;31mNameError\u001b[0m: name 'signal' is not defined"
     ]
    }
   ],
   "source": [
    "\n",
    "\n",
    "# Insertar aquí el código para inicializar tu notebook\n",
    "########################################################\n"
   ]
  },
  {
   "cell_type": "code",
   "execution_count": 18,
   "metadata": {},
   "outputs": [],
   "source": [
    "##########################################\n",
    "# Acá podés generar los gráficos pedidos #\n",
    "##########################################\n"
   ]
  },
  {
   "cell_type": "markdown",
   "metadata": {},
   "source": [
    "b) Construya una tabla en la que figure la anchura normalizada del lóbulo principal  de la ventana, $\\Omega_1$, siendo \n",
    "\n",
    "$$ \\lvert W(\\Omega_1) \\rvert = \\frac{\\sqrt{2}}{2}$$ \n",
    "\n",
    "y el valor de transferencia máxima de los lóbulos secundarios expresado en dB \n",
    "\n",
    "$$ W_2 = \\mathop{max} \\{\\lvert W(\\Omega) \\rvert\\} ,\\space\\space \\forall \\space \\Omega \\geq \\Omega_0 $$\n",
    "\n",
    "siendo $\\Omega_0$ la frecuencia del primer cruce por cero $\\lvert W(\\Omega) \\rvert\\ = 0$ ó la frecuencia límite superior del lóbulo principal. Utilice como norma de frecuencia la frecuencia de Nyquist, de manera que las mediciones de frecuencias sean adimensionales y comparables independientemente de la frecuencia de muestreo."
   ]
  },
  {
   "cell_type": "code",
   "execution_count": 19,
   "metadata": {},
   "outputs": [
    {
     "data": {
      "text/html": [
       "<table border=\"1\" class=\"dataframe\">\n",
       "  <thead>\n",
       "    <tr style=\"text-align: right;\">\n",
       "      <th></th>\n",
       "      <th>$f_1$ (#)</th>\n",
       "      <th>$W_2$ (dB)</th>\n",
       "    </tr>\n",
       "  </thead>\n",
       "  <tbody>\n",
       "    <tr>\n",
       "      <th>Rectangular</th>\n",
       "      <td></td>\n",
       "      <td></td>\n",
       "    </tr>\n",
       "    <tr>\n",
       "      <th>Bartlett</th>\n",
       "      <td></td>\n",
       "      <td></td>\n",
       "    </tr>\n",
       "    <tr>\n",
       "      <th>Hann</th>\n",
       "      <td></td>\n",
       "      <td></td>\n",
       "    </tr>\n",
       "    <tr>\n",
       "      <th>Blackman</th>\n",
       "      <td></td>\n",
       "      <td></td>\n",
       "    </tr>\n",
       "    <tr>\n",
       "      <th>Flat-top</th>\n",
       "      <td></td>\n",
       "      <td></td>\n",
       "    </tr>\n",
       "  </tbody>\n",
       "</table>"
      ],
      "text/plain": [
       "<IPython.core.display.HTML object>"
      ]
     },
     "execution_count": 19,
     "metadata": {},
     "output_type": "execute_result"
    }
   ],
   "source": [
    "\n",
    "#######################################\n",
    "# Tu simulación que genere resultados #\n",
    "#######################################\n",
    "\n",
    "tus_resultados = [ \n",
    "                   ['', ''], # <-- acá debería haber numeritos :)\n",
    "                   ['', ''], # <-- acá debería haber numeritos :)\n",
    "                   ['', ''], # <-- acá debería haber numeritos :)\n",
    "                   ['', ''], # <-- acá debería haber numeritos :)\n",
    "                   ['', ''] # <-- acá debería haber numeritos :)\n",
    "                 ]\n",
    "df = DataFrame(tus_resultados, columns=['$f_1$ (#)', '$W_2$ (dB)'],\n",
    "               index=[  \n",
    "                        'Rectangular',\n",
    "                        'Bartlett',\n",
    "                        'Hann',\n",
    "                        'Blackman',\n",
    "                        'Flat-top'\n",
    "                     ])\n",
    "HTML(df.to_html())\n"
   ]
  },
  {
   "cell_type": "markdown",
   "metadata": {},
   "source": [
    "<div class=\"alert alert-block alert-info\">\n",
    "<b>2)</b> Genere una señal bitonal de las siguientes características\n",
    "</div>"
   ]
  },
  {
   "cell_type": "markdown",
   "metadata": {},
   "source": [
    "\n",
    "  $  x(k) = x_1(k) + x_2(k) $\n",
    "\n",
    "  $  x_1(k) = sen(\\Omega_1·k)$\n",
    "\n",
    "  $  x_2(k) = a_2 · sen(\\Omega_2·k)   $\n",
    "\n",
    "siendo \n",
    "\n",
    "  $\\Omega_1 = \\frac{\\pi}{2}$\n",
    "\n",
    "  $\\Omega_2 = \\Omega_1 + 10·\\frac{2\\pi}{N}$\n",
    "\n",
    "  $a_2 = -40$ dB\n",
    "\n",
    "\n",
    "Responda a las siguientes consignas:"
   ]
  },
  {
   "cell_type": "markdown",
   "metadata": {},
   "source": [
    "<div class=\"alert alert-block alert-info\">\n",
    "<b>2.a)</b>  Calcule el espectro $ \\lvert X(\\Omega) \\rvert $\n",
    "\n",
    "</div>"
   ]
  },
  {
   "cell_type": "code",
   "execution_count": 11,
   "metadata": {
    "scrolled": true
   },
   "outputs": [
    {
     "data": {
      "text/plain": [
       "Text(0.5, 0, 'Tiempo [s]')"
      ]
     },
     "execution_count": 11,
     "metadata": {},
     "output_type": "execute_result"
    },
    {
     "data": {
      "image/png": "[encoded data removed]",
      "text/plain": [
       "<Figure size 432x288 with 1 Axes>"
      ]
     },
     "metadata": {
      "needs_background": "light"
     },
     "output_type": "display_data"
    },
    {
     "data": {
      "image/png": "[encoded data removed]",
      "text/plain": [
       "<Figure size 432x288 with 1 Axes>"
      ]
     },
     "metadata": {
      "needs_background": "light"
     },
     "output_type": "display_data"
    }
   ],
   "source": [
    "##########################################\n",
    "# Acá podés generar los gráficos pedidos #\n",
    "##########################################\n",
    "\n",
    "\"\"\"\n",
    "\n",
    "xx1: señal tono f0 \" pi/2 = fs/4 ya que df=fs/N = 2pi/N\"\n",
    "xx2: señal tono f1 = f1 + 10 * (resolucion espectral)\n",
    "xx3 : señal bitonal\n",
    "fftabs: modulo espectro frecuencial calculado con numpy fft\n",
    "\n",
    "\n",
    "@author: Fabian Villada\n",
    "\"\"\"\n",
    "\n",
    "import numpy as np\n",
    "import scipy.signal as sig\n",
    "import matplotlib.pyplot as plt\n",
    "from scipy.fft import fft\n",
    "\n",
    "##############################################################################\n",
    "def generador_senoidal (fs, f0, N, a0, p0):\n",
    "    '''Genera una senial senoidal con los parametros indicados.\n",
    "\n",
    "    Keyword arguments:\n",
    "    a0 -- Valor pico de la senoidal\n",
    "    f0 -- frecuencia de la senial\n",
    "    ph -- fase de la senial\n",
    "    N -- numero de muestras de la senial\n",
    "    fs - frecuencia de muestro de la senial\n",
    "                                \n",
    "\n",
    "    Returns: array of float, array of float\n",
    "\n",
    "    ''' \n",
    "   \n",
    "    tt=np.arange(N/fs , step=1/fs)\n",
    "    xx = a0 * np.sin( 2 * np.pi * f0 * tt + p0 )\n",
    "     \n",
    "    return tt, xx   \n",
    "\n",
    "##############################################################################\n",
    "\n",
    "\n",
    "N  = 1000 # muestras\n",
    "fs = 1000 # Hz\n",
    "df = fs/N # resolucion espectral equivale a( 2 * np.pi/N )\n",
    "\n",
    "a1 = 1  # Volts\n",
    "p1 = 0 \n",
    "f1 =  fs/4   # mitad dd la banda digital\n",
    "\n",
    "\n",
    "a2_db = -40 # 20*log a1/a0 = -40\n",
    "a2 = a1 *[ 10**(a2_db/20) ]\n",
    "p2 = 0\n",
    "f2 = f1 + 10 * df\n",
    "\n",
    "Norma = N/2 # Criterio de Normalizacion\n",
    "\n",
    "\n",
    "\n",
    "##### construyo señal temporal #######\n",
    "\n",
    "tt , xx1 = generador_senoidal(fs=fs , f0=f1 , N = N , a0 = a1 , p0 = p1)\n",
    "tt , xx2 = generador_senoidal(fs=fs , f0=f2 , N = N , a0 = a2 , p0 = p2)\n",
    "xx3 = xx1 + xx2\n",
    "\n",
    "###### Evaluo espectro con numpy fft #######\n",
    "\n",
    "fftabs = np.abs(np.fft.fft(xx3))/Norma\n",
    "fftabs = np.fft.fftshift(fftabs, axes=0)\n",
    "fftabs = 20*np.log10(fftabs)\n",
    "freq = np.fft.fftfreq(len(xx3),1/N)\n",
    "\n",
    "######Graficos###########\n",
    "\n",
    "plt.figure(1)\n",
    "plt.plot(freq , fftabs , label='')\n",
    "plt.title('espectro señal bitonal', fontsize = 'xx-large')\n",
    "plt.ylabel('Amplitud db')\n",
    "plt.xlabel('Frec ')\n",
    "\n",
    "plt.figure(2)\n",
    "plt.plot(xx1)\n",
    "plt.plot(xx2)\n",
    "plt.title('Forma de onda temporal señal bitonal', fontsize = 'xx-large')\n",
    "plt.ylabel('Amplitud')\n",
    "plt.xlabel('Tiempo [s]')\n",
    "\n"
   ]
  },
  {
   "cell_type": "markdown",
   "metadata": {},
   "source": [
    "<div class=\"alert alert-block alert-info\">\n",
    "<b>2.b)</b> Repita a) disminuyendo la amplitud de $x_2$.\n",
    "</div>"
   ]
  },
  {
   "cell_type": "markdown",
   "metadata": {},
   "source": [
    "¿Cuál es el factor de escala mínimo de $x_2$, definido como $a^0_2$, que permite evidenciar su existencia en el espectro de $\\lvert X(\\Omega) \\rvert$ ?"
   ]
  },
  {
   "cell_type": "markdown",
   "metadata": {},
   "source": [
    "<div class=\"alert alert-block alert-warning\">\n",
    "<b>Respuesta:</b> Escriba aquí su respuesta.\n",
    "</div>"
   ]
  },
  {
   "cell_type": "markdown",
   "metadata": {},
   "source": [
    "¿De qué depende poder medir $x_2$?"
   ]
  },
  {
   "cell_type": "markdown",
   "metadata": {},
   "source": [
    "<div class=\"alert alert-block alert-warning\">\n",
    "<b>Respuesta:</b> Escriba aquí su respuesta.\n",
    "</div>"
   ]
  },
  {
   "cell_type": "markdown",
   "metadata": {},
   "source": [
    "Considere ahora que esta señal proviene de un ADC de 16 bits. Incorpore al análisis el correspondiente ruido de cuantización. ¿Cómo afecta esta situación la medición de $x_2$?"
   ]
  },
  {
   "cell_type": "markdown",
   "metadata": {},
   "source": [
    "<div class=\"alert alert-block alert-warning\">\n",
    "<b>Respuesta:</b> Escriba aquí su respuesta.\n",
    "</div>"
   ]
  },
  {
   "cell_type": "code",
   "execution_count": 21,
   "metadata": {},
   "outputs": [],
   "source": [
    "##########################################\n",
    "# Acá podés generar los gráficos pedidos #\n",
    "##########################################\n"
   ]
  },
  {
   "cell_type": "markdown",
   "metadata": {},
   "source": [
    "<div class=\"alert alert-block alert-info\">\n",
    "<b>2.c)</b> Repita a) incrementando la frecuencia de $x_1$ para $\\Omega_1 = \\frac{\\pi}{2} + d_1·\\frac{2\\pi}{N}$ para valores de $d_1 = (0,01; 0.25; 0.5)$. Aumente la amplitud de $a_2$ hasta que se evidencie sobre el leakage y construya una tabla con dicho valor para las 3 situaciones correspondientes a desintonías leve, moderada y máxima.\n",
    "</div>"
   ]
  },
  {
   "cell_type": "code",
   "execution_count": 13,
   "metadata": {
    "scrolled": true
   },
   "outputs": [
    {
     "data": {
      "text/html": [
       "<table border=\"1\" class=\"dataframe\">\n",
       "  <thead>\n",
       "    <tr style=\"text-align: right;\">\n",
       "      <th></th>\n",
       "      <th>$a_2$ (dB)</th>\n",
       "    </tr>\n",
       "  </thead>\n",
       "  <tbody>\n",
       "    <tr>\n",
       "      <th>leve</th>\n",
       "      <td></td>\n",
       "    </tr>\n",
       "    <tr>\n",
       "      <th>moderada</th>\n",
       "      <td></td>\n",
       "    </tr>\n",
       "    <tr>\n",
       "      <th>máxima</th>\n",
       "      <td></td>\n",
       "    </tr>\n",
       "  </tbody>\n",
       "</table>"
      ],
      "text/plain": [
       "<IPython.core.display.HTML object>"
      ]
     },
     "execution_count": 13,
     "metadata": {},
     "output_type": "execute_result"
    },
    {
     "data": {
      "image/png": "[encoded data removed]",
      "text/plain": [
       "<Figure size 432x288 with 2 Axes>"
      ]
     },
     "metadata": {
      "needs_background": "light"
     },
     "output_type": "display_data"
    },
    {
     "data": {
      "image/png": "[encoded data removed]",
      "text/plain": [
       "<Figure size 432x288 with 2 Axes>"
      ]
     },
     "metadata": {
      "needs_background": "light"
     },
     "output_type": "display_data"
    },
    {
     "data": {
      "image/png": "[encoded data removed]",
      "text/plain": [
       "<Figure size 432x288 with 2 Axes>"
      ]
     },
     "metadata": {
      "needs_background": "light"
     },
     "output_type": "display_data"
    },
    {
     "data": {
      "image/png": "[encoded data removed]",
      "text/plain": [
       "<Figure size 432x288 with 2 Axes>"
      ]
     },
     "metadata": {
      "needs_background": "light"
     },
     "output_type": "display_data"
    }
   ],
   "source": [
    "##########################################\n",
    "# Acá podés generar los gráficos pedidos #\n",
    "##########################################\n",
    "\n",
    "import numpy as np\n",
    "import scipy.signal as sig\n",
    "import matplotlib.pyplot as plt\n",
    "from scipy.fft import fft\n",
    "\n",
    "##############################################################################\n",
    "def generador_senoidal (fs, f0, N, a0, p0):\n",
    "    #     '''Genera una senial senoidal con los parametros indicados.\n",
    "\n",
    "    # Keyword arguments:\n",
    "    # a0 -- Valor pico de la senoidal\n",
    "    # f0 -- frecuencia de la senial\n",
    "    # ph -- fase de la senial\n",
    "    # N -- numero de muestras de la senial\n",
    "    # fs - frecuencia de muestro de la senial\n",
    "                                \n",
    "\n",
    "    # Returns: array of float, array of float\n",
    "\n",
    "    # ''' \n",
    "   \n",
    "    tt=np.arange(N/fs , step=1/fs)\n",
    "    xx = a0 * np.sin( 2 * np.pi * f0 * tt + p0 )\n",
    "     \n",
    "    return tt, xx   \n",
    "\n",
    "##############################################################################\n",
    "\n",
    "N  = 1000 # muestras\n",
    "fs = 1000 # Hz\n",
    "df = fs/N # resolucion espectral equivale a( 2 * np.pi/N )\n",
    "\n",
    "a1 = 1  # Volts\n",
    "p1 = 0 \n",
    "f1 =  fs/4   # mitad dd la banda digital\n",
    "\n",
    "\n",
    "a2_db = -40 # 20*log a1/a0 = -40\n",
    "a2 = a1 *[ 10**(a2_db/20) ]\n",
    "p2 = 0\n",
    "f2 = f1 + 10 * df\n",
    "\n",
    "Norma = N/2 # Criterio de Normalizacion\n",
    "\n",
    "fd = [0, 0.01, 0.25, 0.5]  # arreglo para desintonias\n",
    "\n",
    "for i in range(len(fd)):\n",
    "\n",
    "    f1 = f1  + fd[i] * df \n",
    "\n",
    "    tt , xx1 = generador_senoidal(fs=fs , f0=f1 , N=N , a0=a1 , p0=p1)\n",
    "    tt , xx2 = generador_senoidal(fs=fs , f0=f2 , N=N , a0=a2 , p0=p2)\n",
    "    xx3 = xx1+xx2\n",
    "    \n",
    "    #evaluo espectro de las señales con numpy fft dentro del ciclo for#\n",
    "    \n",
    "    fftabs3 = np.abs(np.fft.fft(xx3))/Norma\n",
    "    fftabs3 = np.fft.fftshift(fftabs3, axes=0)\n",
    "    fftabs = 20*np.log10(fftabs3)\n",
    "    freq = np.fft.fftfreq(len(xx3),1/N)\n",
    "    \n",
    "    fftabs1 = np.abs(np.fft.fft(xx1))/Norma\n",
    "    fftabs1 = np.fft.fftshift(fftabs1, axes=0)\n",
    "    fftabs1 = 20*np.log10(fftabs3)\n",
    "    freq1 = np.fft.fftfreq(len(xx1),1/N)\n",
    "    \n",
    "    fftabs2 = np.abs(np.fft.fft(xx2))/Norma\n",
    "    fftabs2 = np.fft.fftshift(fftabs2, axes=0)\n",
    "    fftabs2 = 20*np.log10(fftabs2)\n",
    "    freq2 = np.fft.fftfreq(len(xx2),1/N)\n",
    "    \n",
    "    #Muestra graficos dentro del ciclo#\n",
    "    \n",
    "    plt.figure(i+1)\n",
    "    plt.title('espectros')\n",
    "    plt.subplot(1 , 2 , 1)\n",
    "    plt.plot(freq1 , fftabs1 , color='r')\n",
    "    plt.plot(freq2 , fftabs2)\n",
    "    plt.title('espectros separados fd='+str(fd[i]))\n",
    "    plt.subplot(1 , 2 , 2) # muestro en 1 fila dos columnas el primer grafico\n",
    "    plt.plot(freq , fftabs , label='')\n",
    "    plt.ylim(-60 , 0)\n",
    "    plt.title('espectro bitonal fd=' + str(fd[i]))\n",
    "    plt.ylabel('Amplitud db')\n",
    "    plt.xlabel('Frec ')\n",
    "    \n",
    "\n",
    "#######################################\n",
    "# Tu simulación que genere resultados #\n",
    "#######################################\n",
    "\n",
    "tus_resultados = [ \n",
    "                   '', # <-- acá debería haber numeritos :)\n",
    "                   '', # <-- acá debería haber numeritos :)\n",
    "                   '' # <-- acá debería haber numeritos :)\n",
    "                 ]\n",
    "df = DataFrame(tus_resultados, columns=['$a_2$ (dB)'],\n",
    "               index=[  \n",
    "                        'leve',\n",
    "                        'moderada',\n",
    "                        'máxima',\n",
    "                     ])\n",
    "HTML(df.to_html())"
   ]
  },
  {
   "cell_type": "markdown",
   "metadata": {},
   "source": [
    "<div class=\"alert alert-block alert-info\">\n",
    "<b>2.d)</b> Evalúe el efecto de utilizar las ventanas implementadas en 1). Complete la tabla comparativa con respecto a la ventana rectangular, respecto a las mediciones $a^0_2$ realizada en 2.b); y $a^1_2$ en 2.c) para el caso de desintonía máxima.\n",
    "</div>"
   ]
  },
  {
   "cell_type": "markdown",
   "metadata": {},
   "source": [
    "Grafique $\\lvert X_w(\\Omega) \\rvert = \\lvert \\mathcal{F}\\{ x(k) · w(k) \\} \\rvert $ para las 4 ventanas de 1)."
   ]
  },
  {
   "cell_type": "code",
   "execution_count": 23,
   "metadata": {},
   "outputs": [],
   "source": [
    "##########################################\n",
    "# Acá podés generar los gráficos pedidos #\n",
    "##########################################\n",
    "\n"
   ]
  },
  {
   "cell_type": "code",
   "execution_count": 24,
   "metadata": {
    "scrolled": true
   },
   "outputs": [
    {
     "data": {
      "text/html": [
       "<table border=\"1\" class=\"dataframe\">\n",
       "  <thead>\n",
       "    <tr style=\"text-align: right;\">\n",
       "      <th></th>\n",
       "      <th>$a^0_2$ (dB)</th>\n",
       "      <th>$a^1_2$ (dB)</th>\n",
       "    </tr>\n",
       "  </thead>\n",
       "  <tbody>\n",
       "    <tr>\n",
       "      <th>Rectangular</th>\n",
       "      <td></td>\n",
       "      <td></td>\n",
       "    </tr>\n",
       "    <tr>\n",
       "      <th>Bartlett</th>\n",
       "      <td></td>\n",
       "      <td></td>\n",
       "    </tr>\n",
       "    <tr>\n",
       "      <th>Hann</th>\n",
       "      <td></td>\n",
       "      <td></td>\n",
       "    </tr>\n",
       "    <tr>\n",
       "      <th>Blackman</th>\n",
       "      <td></td>\n",
       "      <td></td>\n",
       "    </tr>\n",
       "    <tr>\n",
       "      <th>Flat-top</th>\n",
       "      <td></td>\n",
       "      <td></td>\n",
       "    </tr>\n",
       "  </tbody>\n",
       "</table>"
      ],
      "text/plain": [
       "<IPython.core.display.HTML object>"
      ]
     },
     "execution_count": 24,
     "metadata": {},
     "output_type": "execute_result"
    }
   ],
   "source": [
    "\n",
    "#######################################\n",
    "# Tu simulación que genere resultados #\n",
    "#######################################\n",
    "\n",
    "tus_resultados = [ \n",
    "                   ['', ''], # <-- acá debería haber numeritos :)\n",
    "                   ['', ''], # <-- acá debería haber numeritos :)\n",
    "                   ['', ''], # <-- acá debería haber numeritos :)\n",
    "                   ['', ''], # <-- acá debería haber numeritos :)\n",
    "                   ['', ''] # <-- acá debería haber numeritos :)\n",
    "                 ]\n",
    "df = DataFrame(tus_resultados, columns=['$a^0_2$ (dB)','$a^1_2$ (dB)'],\n",
    "               index=[  \n",
    "                        'Rectangular',\n",
    "                        'Bartlett',\n",
    "                        'Hann',\n",
    "                        'Blackman',\n",
    "                        'Flat-top'\n",
    "                     ])\n",
    "HTML(df.to_html())\n"
   ]
  },
  {
   "cell_type": "markdown",
   "metadata": {},
   "source": [
    "<div class=\"alert alert-block alert-info\">\n",
    "<b>2.e)</b> Para las ventanas analizadas en 1), decida cuál sería la más apropiada en el caso que, <b>sin afectar otro parámetro</b>, $\\Omega_2$ pudiera acercarse libremente a $\\Omega_1 = \\frac{\\pi}{2} + 0.5·\\frac{2\\pi}{N}$. Complete la siguiente tabla con la distancia mínima, $\\Omega_0, $ a la que se puede distinguir $x_2$ en $\\lvert X_w(\\Omega) \\rvert$.\n",
    "</div>"
   ]
  },
  {
   "cell_type": "code",
   "execution_count": 25,
   "metadata": {},
   "outputs": [
    {
     "data": {
      "text/html": [
       "<table border=\"1\" class=\"dataframe\">\n",
       "  <thead>\n",
       "    <tr style=\"text-align: right;\">\n",
       "      <th></th>\n",
       "      <th>$\\Omega_0$ (#)</th>\n",
       "    </tr>\n",
       "  </thead>\n",
       "  <tbody>\n",
       "    <tr>\n",
       "      <th>Rectangular</th>\n",
       "      <td></td>\n",
       "    </tr>\n",
       "    <tr>\n",
       "      <th>Bartlett</th>\n",
       "      <td></td>\n",
       "    </tr>\n",
       "    <tr>\n",
       "      <th>Hann</th>\n",
       "      <td></td>\n",
       "    </tr>\n",
       "    <tr>\n",
       "      <th>Blackman</th>\n",
       "      <td></td>\n",
       "    </tr>\n",
       "    <tr>\n",
       "      <th>Flat-top</th>\n",
       "      <td></td>\n",
       "    </tr>\n",
       "  </tbody>\n",
       "</table>"
      ],
      "text/plain": [
       "<IPython.core.display.HTML object>"
      ]
     },
     "execution_count": 25,
     "metadata": {},
     "output_type": "execute_result"
    }
   ],
   "source": [
    "\n",
    "#######################################\n",
    "# Tu simulación que genere resultados #\n",
    "#######################################\n",
    "\n",
    "tus_resultados = [ \n",
    "                   '', # <-- acá debería haber numeritos :)\n",
    "                   '', # <-- acá debería haber numeritos :)\n",
    "                   '', # <-- acá debería haber numeritos :)\n",
    "                   '', # <-- acá debería haber numeritos :)\n",
    "                   '' # <-- acá debería haber numeritos :)\n",
    "                 ]\n",
    "df = DataFrame(tus_resultados, columns=['$\\Omega_0$ (#)'],\n",
    "               index=[  \n",
    "                        'Rectangular',\n",
    "                        'Bartlett',\n",
    "                        'Hann',\n",
    "                        'Blackman',\n",
    "                        'Flat-top'\n",
    "                     ])\n",
    "HTML(df.to_html())\n"
   ]
  },
  {
   "cell_type": "markdown",
   "metadata": {},
   "source": [
    "<div class=\"alert alert-block alert-info\">\n",
    "<b>3)</b> Genere la siguiente señal \n",
    "\n",
    "</div>"
   ]
  },
  {
   "cell_type": "markdown",
   "metadata": {},
   "source": [
    "  $  x(k) = a_0·\\mathop{sen}(\\Omega_1·k)$\n",
    "\n",
    "\n",
    "siendo \n",
    "\n",
    "  $a_0 = 2$\n",
    "\n",
    "  $\\Omega_1 = \\Omega_0 + f_r·\\frac{2\\pi}{N} $\n",
    "\n",
    "  $\\Omega_0 = \\frac{\\pi}{2} $\n",
    "  \n",
    "y la variable aleatoria definida por\n",
    "\n",
    "  $f_r \\sim \\mathcal{U}(-2, \\, 2) $\n",
    "\n",
    "Considere 200 realizaciones para cada experimento requerido en los siguiente incisos.\n"
   ]
  },
  {
   "cell_type": "markdown",
   "metadata": {},
   "source": [
    "<div class=\"alert alert-block alert-info\">\n",
    "<b>3.a)</b> Calcule experimentalmente el sesgo y la varianza del siguiente estimador:\n",
    "</div>"
   ]
  },
  {
   "cell_type": "markdown",
   "metadata": {},
   "source": [
    " \n",
    "  $ \\hat{a_0} = \\lvert X^i_w(\\Omega_0) \\rvert$\n",
    "  \n",
    "siendo\n",
    "\n",
    "  $\\lvert X^i_w(\\Omega) \\rvert = \\lvert \\mathcal{F}\\{ x(k) · w_i(k) \\} \\rvert $ \n",
    "  \n",
    "para la *i*-ésima ventana de las 5 utilizadas en el punto 2).\n",
    "\n",
    "El sesgo y la varianza se definen para este caso como\n",
    "\n",
    "  $ s_a = \\mathop{E}\\{ \\hat{a_0}\\} - a_0  $\n",
    "    \n",
    "  $ v_a = \\mathop{var} \\{ \\hat{a_0} \\} = \\mathop{E}\\{ ( \\hat{a_0} - \\mathop{E} \\{ \\hat{a_0} \\} )^2 \\} $\n",
    "  \n",
    "y pueden aproximarse cuando consideramos los valores esperados como las medias muestrales ($a=a_0$ para simplificar la notación)\n",
    "\n",
    "  $ \\mathop{E}\\{ \\hat{a_0}\\}  = \\hat{\\mu_a} =  \\frac{1}{M} \\sum^{M-1}_{j=0} \\hat{a_{j}} $\n",
    "  \n",
    "  $ s_a = \\hat{\\mu_a} - a  $\n",
    "    \n",
    "  $ v_a = \\frac{1}{M} \\sum^{M-1}_{j=0} (\\hat{a_{j}} - \\hat{\\mu_a})^2 $\n",
    "\n"
   ]
  },
  {
   "cell_type": "markdown",
   "metadata": {},
   "source": [
    "Grafique los histogramas para  $\\lvert X^i_w(\\Omega_0) \\rvert$. "
   ]
  },
  {
   "cell_type": "markdown",
   "metadata": {},
   "source": [
    "<div class=\"alert alert-block alert-danger\">\n",
    "<img src=\"./ojo.svg\" align=\"left\" width=\"50\" />   Cuide que todos los gráficos tengan <b>el mismo rango de valores en X</b> para facilitar la comparación.\n",
    "</div>"
   ]
  },
  {
   "cell_type": "code",
   "execution_count": 26,
   "metadata": {},
   "outputs": [],
   "source": [
    "##########################################\n",
    "# Acá podés generar los gráficos pedidos #\n",
    "##########################################\n",
    "\n"
   ]
  },
  {
   "cell_type": "code",
   "execution_count": 27,
   "metadata": {
    "scrolled": false
   },
   "outputs": [
    {
     "data": {
      "text/html": [
       "<table border=\"1\" class=\"dataframe\">\n",
       "  <thead>\n",
       "    <tr style=\"text-align: right;\">\n",
       "      <th></th>\n",
       "      <th>$s_a$</th>\n",
       "      <th>$v_a$</th>\n",
       "    </tr>\n",
       "  </thead>\n",
       "  <tbody>\n",
       "    <tr>\n",
       "      <th>Rectangular</th>\n",
       "      <td></td>\n",
       "      <td></td>\n",
       "    </tr>\n",
       "    <tr>\n",
       "      <th>Bartlett</th>\n",
       "      <td></td>\n",
       "      <td></td>\n",
       "    </tr>\n",
       "    <tr>\n",
       "      <th>Hann</th>\n",
       "      <td></td>\n",
       "      <td></td>\n",
       "    </tr>\n",
       "    <tr>\n",
       "      <th>Blackman</th>\n",
       "      <td></td>\n",
       "      <td></td>\n",
       "    </tr>\n",
       "    <tr>\n",
       "      <th>Flat-top</th>\n",
       "      <td></td>\n",
       "      <td></td>\n",
       "    </tr>\n",
       "  </tbody>\n",
       "</table>"
      ],
      "text/plain": [
       "<IPython.core.display.HTML object>"
      ]
     },
     "execution_count": 27,
     "metadata": {},
     "output_type": "execute_result"
    }
   ],
   "source": [
    "\n",
    "#######################################\n",
    "# Tu simulación que genere resultados #\n",
    "#######################################\n",
    "\n",
    "tus_resultados = [ \n",
    "                   ['', ''], # <-- acá debería haber numeritos :)\n",
    "                   ['', ''], # <-- acá debería haber numeritos :)\n",
    "                   ['', ''], # <-- acá debería haber numeritos :)\n",
    "                   ['', ''], # <-- acá debería haber numeritos :)\n",
    "                   ['', ''], # <-- acá debería haber numeritos :)\n",
    "                 ]\n",
    "df = DataFrame(tus_resultados, columns=['$s_a$', '$v_a$'],\n",
    "               index=[  \n",
    "                        'Rectangular',\n",
    "                        'Bartlett',\n",
    "                        'Hann',\n",
    "                        'Blackman',\n",
    "                        'Flat-top'\n",
    "                     ])\n",
    "HTML(df.to_html())\n"
   ]
  },
  {
   "cell_type": "markdown",
   "metadata": {},
   "source": [
    "<div class=\"alert alert-block alert-info\">\n",
    "<b>3.b)</b> Repita a) para el siguiente estimador:\n",
    "</div>"
   ]
  },
  {
   "cell_type": "markdown",
   "metadata": {},
   "source": [
    " \n",
    "  $ \\hat{a_1} = \\sqrt{\\frac{1}{5}·\\sum_{j=a}^{b} \\lvert X^i_w(j) \\rvert ^2} $\n",
    "  \n",
    "siendo $ a = \\Omega_0 - 2·\\frac{2\\pi}{N} $ y $ b = \\Omega_0 + 2·\\frac{2\\pi}{N} $\n",
    "\n",
    "para la *i*-ésima ventana de las 5 utilizadas en el punto 2)."
   ]
  },
  {
   "cell_type": "markdown",
   "metadata": {},
   "source": [
    "Grafique los histogramas para  $\\lvert X^i_w(\\Omega_0) \\rvert$. "
   ]
  },
  {
   "cell_type": "markdown",
   "metadata": {},
   "source": [
    "<div class=\"alert alert-block alert-danger\">\n",
    "<img src=\"./ojo.svg\" align=\"left\" width=\"50\" />   Cuide que todos los gráficos tengan <b>el mismo rango de valores en X</b> para facilitar la comparación.\n",
    "</div>"
   ]
  },
  {
   "cell_type": "code",
   "execution_count": 28,
   "metadata": {},
   "outputs": [],
   "source": [
    "##########################################\n",
    "# Acá podés generar los gráficos pedidos #\n",
    "##########################################\n",
    "\n"
   ]
  },
  {
   "cell_type": "code",
   "execution_count": 29,
   "metadata": {
    "scrolled": false
   },
   "outputs": [
    {
     "data": {
      "text/html": [
       "<table border=\"1\" class=\"dataframe\">\n",
       "  <thead>\n",
       "    <tr style=\"text-align: right;\">\n",
       "      <th></th>\n",
       "      <th>$s_a$</th>\n",
       "      <th>$v_a$</th>\n",
       "    </tr>\n",
       "  </thead>\n",
       "  <tbody>\n",
       "    <tr>\n",
       "      <th>Rectangular</th>\n",
       "      <td></td>\n",
       "      <td></td>\n",
       "    </tr>\n",
       "    <tr>\n",
       "      <th>Bartlett</th>\n",
       "      <td></td>\n",
       "      <td></td>\n",
       "    </tr>\n",
       "    <tr>\n",
       "      <th>Hann</th>\n",
       "      <td></td>\n",
       "      <td></td>\n",
       "    </tr>\n",
       "    <tr>\n",
       "      <th>Blackman</th>\n",
       "      <td></td>\n",
       "      <td></td>\n",
       "    </tr>\n",
       "    <tr>\n",
       "      <th>Flat-top</th>\n",
       "      <td></td>\n",
       "      <td></td>\n",
       "    </tr>\n",
       "  </tbody>\n",
       "</table>"
      ],
      "text/plain": [
       "<IPython.core.display.HTML object>"
      ]
     },
     "execution_count": 29,
     "metadata": {},
     "output_type": "execute_result"
    }
   ],
   "source": [
    "\n",
    "#######################################\n",
    "# Tu simulación que genere resultados #\n",
    "#######################################\n",
    "\n",
    "tus_resultados = [ \n",
    "                   ['', ''], # <-- acá debería haber numeritos :)\n",
    "                   ['', ''], # <-- acá debería haber numeritos :)\n",
    "                   ['', ''], # <-- acá debería haber numeritos :)\n",
    "                   ['', ''], # <-- acá debería haber numeritos :)\n",
    "                   ['', ''], # <-- acá debería haber numeritos :)\n",
    "                 ]\n",
    "df = DataFrame(tus_resultados, columns=['$s_a$', '$v_a$'],\n",
    "               index=[  \n",
    "                        'Rectangular',\n",
    "                        'Bartlett',\n",
    "                        'Hann',\n",
    "                        'Blackman',\n",
    "                        'Flat-top'\n",
    "                     ])\n",
    "HTML(df.to_html())\n"
   ]
  }
 ],
 "metadata": {
  "kernelspec": {
   "display_name": "Python 3",
   "language": "python",
   "name": "python3"
  },
  "language_info": {
   "codemirror_mode": {
    "name": "ipython",
    "version": 3
   },
   "file_extension": ".py",
   "mimetype": "text/x-python",
   "name": "python",
   "nbconvert_exporter": "python",
   "pygments_lexer": "ipython3",
   "version": "3.8.3"
  }
 },
 "nbformat": 4,
 "nbformat_minor": 2
}
